{
 "cells": [
  {
   "cell_type": "code",
   "execution_count": null,
   "metadata": {},
   "outputs": [],
   "source": [
    "!noise_mode sym --natural ../cifar-10-100n-main/data/CIFAR-10_human.pt --r 24 --lambda_u 0 --p_threshold 0.5 --dataset cifar10 --num_class 10 --cc --gpuid 0 --noise-type random_label3\n"
   ]
  }
 ],
 "metadata": {
  "language_info": {
   "name": "python"
  },
  "orig_nbformat": 4
 },
 "nbformat": 4,
 "nbformat_minor": 2
}
